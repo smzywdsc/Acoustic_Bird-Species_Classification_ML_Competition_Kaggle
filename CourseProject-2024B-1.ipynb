{
 "cells": [
  {
   "cell_type": "markdown",
   "metadata": {},
   "source": [
    "# **Name:**   Su zehao && Wu xuzheng\n",
    "\n",
    "**EIDs:** 58818678\n",
    "\n",
    "**Kaggle Competition:** BirdCLEF+ 2025\n",
    "\n",
    "**Kaggle Team Name:** Xuzheng_Bii_Wu\n"
   ]
  },
  {
   "cell_type": "markdown",
   "metadata": {},
   "source": [
    "# CS5489 - Course Project (2024/25B)\n",
    "\n",
    "Due date: See canvas site."
   ]
  },
  {
   "cell_type": "markdown",
   "metadata": {},
   "source": [
    "## Possible Projects\n",
    "\n",
    "For the course project, you may select **one** of the following competitions on Kaggle **or** define your own course project:\n",
    "\n",
    "### [Jane Street Real-Time Market Data Forecasting](https://www.kaggle.com/competitions/jane-street-real-time-market-data-forecasting): Predict financial market responders using real-world data.\n",
    "\n",
    ">In this competition, hosted by Jane Street, you'll build a model using real-world data derived from production systems, which offers a glimpse into the daily challenges of successful trading. This challenge highlights the difficulties in modeling financial markets, including fat-tailed distributions, non-stationary time series, and sudden shifts in market behavior.\n",
    "\n",
    "### [BirdCLEF+ 2025](https://www.kaggle.com/competitions/birdclef-2025): Species identification from audio, focused on birds, amphibians, mammals and insects from the Middle Magdalena Valley of Colombia.\n",
    "\n",
    ">Mobile and habitat-diverse species serve as valuable indicators of biodiversity change, as shifts in their assemblages and population dynamics can signal the success or failure of ecological restoration efforts. However, conducting traditional observer-based biodiversity surveys across large areas is both costly and logistically demanding. In contrast, passive acoustic monitoring (PAM), combined with modern machine learning techniques, enables conservationists to sample across broader spatial scales with greater temporal resolution, providing deeper insights into the relationship between restoration interventions and biodiversity.\n",
    "\n",
    ">For this competition, you'll apply your machine-learning expertise to identify under-studied species based on their acoustic signatures. Specifically, you'll develop computational methods to process continuous audio data and recognize species from different taxonomic groups by their sounds. The most effective solutions will demonstrate the ability to train reliable classifiers with limited labeled data. If successful, your work will contribute to ongoing efforts to enhance biodiversity monitoring, including research initiatives in the lowlands of the Magdalena Valley of Colombia.\n",
    "\n",
    "### [BYU - Locating Bacterial Flagellar Motors 2025](https://www.kaggle.com/competitions/byu-locating-bacterial-flagellar-motors-2025/overview): Help locate flagellar motors in three-dimensional reconstructions of bacteria.\n",
    "\n",
    ">The goal of this competition is to develop an algorithm to identify the presence and location of flagellar motors in 3D reconstructions of bacteria. Automating this traditionally manual task will accelerate the study of macromolecular complexes, which helps answer fundamental questions in molecular biology, improve drug development, and advance synthetic biology.\n",
    "\n",
    "### [Stanford RNA 3D Folding](https://www.kaggle.com/competitions/stanford-rna-3d-folding): Solve RNA structure prediction, one of biology's remaining grand challenges\n",
    "\n",
    "> If you sat down to complete a puzzle without knowing what it should look like, you’d have to rely on patterns and logic to piece it together. In the same way, predicting Ribonucleic acid (RNA)’s 3D structure involves using only its sequence to figure out how it folds into the structures that define its function.\n",
    "\n",
    ">In this competition, you’ll develop machine learning models to predict an RNA molecule’s 3D structure from its sequence. The goal is to improve our understanding of biological processes and drive new advancements in medicine and biotechnology.\n",
    "\n",
    "\n",
    "### Student-defined Course Project \n",
    "\n",
    "The goal of the student-defined project is to get some hands-on experience using the course material on your own research problems. Keep in mind that there will only be about 4 weeks to do the project, so the scope should not be too large. Following the major themes of the course, here are some general topics for the project:\n",
    "- _regression_ (supervised learning) - use regression methods (e.g. ridge regression, Gaussian processes) to model data or predict from data.\n",
    "- _classification_ (supervised learning) - use classification methods (e.g., SVM, BDR, Logistic Regression, NNs) to learn to distinguish between multiple classes given a feature vector.\n",
    "- _clustering_ (unsupervised learning) - use clustering methods (e.g., K-means, EM, Mean-Shift) to discover the natural groups in data.\n",
    "- _visualization_ (unsupervised learning) - use dimensionality reduction methods (e.g., PCA, kernel-PCA, non-linear embedding) to visualize the structure of high-dimensional data.\n",
    " \n",
    "You can pick any one of these topics and apply them to your own problem/data. \n",
    "\n",
    "- *Can my project be my recently submitted or soon-to-be submitted paper?* If you plan to just\n",
    "turn in the results from your paper, then the answer is no. The project cannot be be work\n",
    "that you have already done. However, your course project can be based on extending your\n",
    "work. For example, you can try some models introduced in the course on your data/problem.\n",
    "\n",
    "Before actually doing the project, you need to write a **project proposal** so that we can make sure the project is doable within the 3-4 weeks. I can also give you some pointers to relevant methods, if necessary.  \n",
    "- The project proposal should be at most one page with the following contents: 1) an introduction that briefy states the problem; 2) a precise description of what you plan to do - e.g., What types of features do you plan to use? What algorithms do you plan to use? What dataset will you use? How will you evaluate your results? How do you define a good outcome for the project?\n",
    "- The goal of the proposal is to work out, in your head, what your project will be. Once the proposal is done, it is just a matter of implementation!\n",
    "- *You need to submit the project proposal to Canvas 1 week after the Course project is released.*"
   ]
  },
  {
   "cell_type": "markdown",
   "metadata": {},
   "source": [
    "## Groups\n",
    "Group projects should contain 2 students.  To sign up for a group, go to Canvas and under \"People\", join an existing **\"Project Group X\"**, where X is a number.  _For group projects, the project report must state the percentage contribution from each project member. You must also submit the contribution percentages to the \"Project Group Contribution\" assignment on Canvas._\n",
    "\n",
    "## Methodology\n",
    "You are free to choose the methodology to solve the task.  In machine learning, it is important to use domain knowledge to help solve the problem.  Hence, instead of blindly applying the algorithms to the data you need to think about how to represent the data in a way that makes sense for the algorithm to solve the task. \n",
    "\n",
    "## Kaggle: Kaggle Notebooks\n",
    "\n",
    "The Kaggle competitions have Kaggle Notebooks enabled, which provide free GPU/TPU computing resources (up to a limit).  You can develop your model in the Kaggle Notebook, CS5489 JupyterHub (Dive), or on your own computers.\n",
    "\n",
    "## Kaggle: Evaluation on Kaggle\n",
    "\n",
    "For Kaggle projects, the final evaluation will be performed on Kaggle. Note that for these competitions you need to submit your code via the Kaggle Notebook, which will then generate the submission file for processing. \n",
    "\n",
    "## Project Presentation\n",
    "\n",
    "Each project group needs to give a presentation at the end of the semester.  You will record your presentation and upload it to any video platform.  The presentation is limited to 5 minutes.  You _must_ give a presentation. See the details in the \"Project Presentations\" Canvas assignment.\n",
    "\n",
    "## What to hand in\n",
    "\n",
    "You need to turn in the following things.\n",
    "\n",
    "The following files should be uploaded to \"Course Project\" on Canvas:\n",
    "\n",
    "1. This ipynb file `CourseProject-2024B.ipynb` with your source code and documentation. **You should write about all the various attempts that you make to find a good solution.** You may also submit .py files, but your documentation should be in the ipynb file.\n",
    "2. A **PDF** version of your ipynb file.\n",
    "3. Presentation slides.\n",
    "4. (Kaggle projects) Your final submission file to Kaggle. Note that most competitions require you to submit the code, and Kaggle will run it on the hidden test set.\n",
    "5. (Kaggle projects) A downloaded copy of your Kaggle Notebook that is submitted to Kaggle. This file should contain the code that generates the final submission file on Kaggle. This code will be used to verify that your Kaggle submission is reproducible.\n",
    "\n",
    "Other things that need to be turned in:\n",
    "- Upload your Project presentation and the submit the URL to the \"Project Presentations\" assignment on Canvas.  See the detailed instructions in the assignment.\n",
    "- Enter the percentage contribution for each project member using the \"Project Group Contribution\" assignment on Canvas.\n",
    "- (Student-defined projects only) submit your project proposal to the \"Project Proposal\" assignment on Canvas. The project proposal is due 1 week after the course project is released. Kaggle projects do not need to submit a proposal.\n",
    "\n",
    "\n",
    "\n",
    "## Grading\n",
    "The marks of the assignment are distributed as follows:\n",
    "- 40% - Results using various feature representations, dimensionality reduction methods, classifiers, etc.\n",
    "- 25% - Trying out feature representations (e.g. adding additional features, combining features from different sources) or methods not used in the tutorials.\n",
    "- 15% - Quality of the written report.  More points for insightful observations and analysis.\n",
    "- 15% - Project presentation\n",
    "- 5% - For Kaggle projects, final ranking on the Kaggle leaderboard;  For student-defined projects, the project proposal.\n",
    "\n",
    "**Late Penalty:** 25 marks will be subtracted for each day late.\n",
    "\n",
    "**Group contribution:** marks for a group member with less than equal contribution will be deducted according to the following formula:\n",
    "- Let A% and B% be the percentage contributions for group members Alice and Bob. A%+B%=100%\n",
    "- Let x be the group project marks.\n",
    "- If A>B, then Bob's marks will be reduced to be: x*B/A\n",
    "<hr>"
   ]
  },
  {
   "cell_type": "markdown",
   "metadata": {},
   "source": [
    "# YOUR METHODS HERE"
   ]
  },
  {
   "cell_type": "code",
   "execution_count": null,
   "metadata": {
    "collapsed": true
   },
   "outputs": [],
   "source": []
  },
  {
   "cell_type": "code",
   "execution_count": null,
   "metadata": {
    "collapsed": true
   },
   "outputs": [],
   "source": []
  },
  {
   "cell_type": "code",
   "execution_count": null,
   "metadata": {
    "collapsed": true
   },
   "outputs": [],
   "source": []
  },
  {
   "cell_type": "code",
   "execution_count": null,
   "metadata": {
    "collapsed": true
   },
   "outputs": [],
   "source": []
  },
  {
   "cell_type": "code",
   "execution_count": null,
   "metadata": {
    "collapsed": true
   },
   "outputs": [],
   "source": []
  },
  {
   "cell_type": "code",
   "execution_count": null,
   "metadata": {
    "collapsed": true
   },
   "outputs": [],
   "source": []
  },
  {
   "cell_type": "code",
   "execution_count": null,
   "metadata": {
    "collapsed": true
   },
   "outputs": [],
   "source": []
  }
 ],
 "metadata": {
  "anaconda-cloud": {},
  "kernelspec": {
   "display_name": "Python 3 (ipykernel)",
   "language": "python",
   "name": "python3"
  },
  "language_info": {
   "codemirror_mode": {
    "name": "ipython",
    "version": 3
   },
   "file_extension": ".py",
   "mimetype": "text/x-python",
   "name": "python",
   "nbconvert_exporter": "python",
   "pygments_lexer": "ipython3",
   "version": "3.9.15"
  },
  "toc": {
   "base_numbering": 1,
   "nav_menu": {},
   "number_sections": true,
   "sideBar": true,
   "skip_h1_title": false,
   "title_cell": "Table of Contents",
   "title_sidebar": "Contents",
   "toc_cell": false,
   "toc_position": {},
   "toc_section_display": true,
   "toc_window_display": false
  }
 },
 "nbformat": 4,
 "nbformat_minor": 1
}
